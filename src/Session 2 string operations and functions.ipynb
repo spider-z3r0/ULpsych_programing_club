{
 "cells": [
  {
   "cell_type": "markdown",
   "metadata": {},
   "source": [
    "# Week 2 - Getting to work\n",
    "\n",
    "Welcome back to week 2 of python for SPSS users. Thank you for joining us again. This week we're going to start actually doing things in python, learning about string operations, methods, and functions. But first...\n",
    "\n",
    "## Lets recap! (1/3)\n",
    "\n",
    "\n",
    "Last week, we learned that one of the important things to do when you are learning and writing code is to use comments. Comments are pieces of information that we write in our Python code that is not interpreted by our computer. Insteads comments are used by programmers to label their code, structure their code into sections, describe what their code is doing, and to identify areas of misunderstanding. That way when other people come to read your code (or when you come back to read your code in 6 months wondering what the hell you were trying to do) they'll be in a much better position to understand what your code is doing. To write comments in Python, we use the '#' symbol. "
   ]
  },
  {
   "cell_type": "code",
   "execution_count": 17,
   "metadata": {},
   "outputs": [],
   "source": [
    "#### Write a comment below with your name, the week of the workshop, and what you hope to achieve from taking part in this workshop\n",
    "\n",
    "## Replace the following with your own comment\n",
    "# Name: Ryan Donovan, \n",
    "# Week: 2, \n",
    "# Hope: To remove the plague of SPSS that has corrupted the minds of oh so many Psychologists "
   ]
  },
  {
   "cell_type": "markdown",
   "metadata": {},
   "source": [
    "\n",
    "## Lets recap! (2/3)\n",
    "\n",
    "Last week, we learned about 3 basic python datatypes:\n",
    "\n",
    " 1. Strings: This is the datatype for written language. You make one by simply enclosing text (alphanumberic caracters and punctuation) in either apostrophies or double quotes (depending on whats in the text)\n",
    " 2. Ints: This is the datatype fot whole numbers, like 4, 230000, -1 etc. \n",
    " 3. Floats: This is the datatype for numbers with a decimal point, like .05, 2.4, -3.0 etc.\n",
    "\n",
    "And we also learned about 2 basic data structures:\n",
    " 1. Lists: A list is a collection of items enclosed in square brackets [] and seperated by commas\n",
    " 2. Dicts: A dict is a collection of 'key:value' pairs enclosed in curly brackets {} seperated by commas. \n",
    "\n",
    "In the `code` cell below make 1 example of each of these datatypes, you can check each example by pressing the play button after making each example. \n"
   ]
  },
  {
   "cell_type": "code",
   "execution_count": 18,
   "metadata": {},
   "outputs": [],
   "source": [
    "# Make a single quote string below\n",
    "\n",
    "# Make a double quote strint below (include an apostrphie in the text)\n",
    "\n",
    "# Make an int below\n",
    "\n",
    "# Make a float below\n",
    "\n",
    "# Take the strings, int and float you just made and put them in a list\n",
    "\n",
    "# Now take those things and put them in a dict in the format {'string1':, 'string2':, 'int':, 'float':, 'list':}"
   ]
  },
  {
   "cell_type": "markdown",
   "metadata": {},
   "source": [
    "Well done!! You remembered how to make each type of datatype, and you made a couple of data structures, you're practically an expert pythonista already. \n"
   ]
  },
  {
   "cell_type": "markdown",
   "metadata": {},
   "source": [
    "## Let's Recap! (3/3)\n",
    "The last thing we covered last week was the python use of the term '**variable**'. \n",
    "\n",
    "In python, a variable is essentially just a label that contains a piece of information. At the most basic level this is useful becuase it allows us to keep track of something, and work with it, using very little code. \n",
    "\n",
    "Last weeks we started with the string `'Hello World!'` but lets imagine we have a long string\n",
    "\n",
    "`\"It’s not so much what we have in this life that matters. It’s what we do with what we have. – Mr. Rogers\"`\n",
    "\n",
    "If we had to type this out everytime we wanted to interact with it it would be really unwieldy, so giving this string a short label (assigning it to a variable) would make it much easier to work with.  "
   ]
  },
  {
   "cell_type": "code",
   "execution_count": 19,
   "metadata": {},
   "outputs": [
    {
     "name": "stdout",
     "output_type": "stream",
     "text": [
      "It’s not so much what we have in this life that matters. It’s what we do with what we have. – Mr. Rogers\n"
     ]
    }
   ],
   "source": [
    "\n",
    "my_variable = \"It’s not so much what we have in this life that matters. It’s what we do with what we have. – Mr. Rogers\" # note the = between the variable name and the string, and the underscore in the name\n",
    "\n",
    "print(my_variable) # This tells the computer to write the variable out below this cell\n"
   ]
  },
  {
   "cell_type": "markdown",
   "metadata": {},
   "source": [
    "\n",
    "Notice how instead of printing out 'my_variable' python prints out the data that is contained in the variable. \n",
    "\n",
    "Couple of things to note here:\n",
    " 1. The variable name is made of alphabetic characters, not numbers or punctuation\n",
    " 2. We use underscores to seperate parts of the variable name, this is similar to variable names in SPSS\n",
    " 3. The equals sign (=) is what links the variable name to the data object\n",
    "\n",
    "In the cell below, play around a little with making some variables of your own. Make a few different variables of different types with different labels. Run the cell (press play on the cell) after you've made each variable to see if the assignment has worked properly.\n",
    "\n",
    "Oh also `# Don't forget to use comments` (seriously.... seriously)."
   ]
  },
  {
   "cell_type": "code",
   "execution_count": 20,
   "metadata": {},
   "outputs": [],
   "source": [
    "# Make a few variables in this cell, don't forget to run the cell after making each variable to make sure it works."
   ]
  },
  {
   "cell_type": "markdown",
   "metadata": {},
   "source": [
    "OK, thats enough recapping, it's time to actually start working with some data. \n",
    "\n",
    "Even though most people think about numbers when programming comes up, and indeed we most often work with numerical data in SPSS, we're going to start with strings. This allows us to demonstrate some really useful basic principles of python that apply to other datatypes, without giving people the excuse that they 'hate maths'. You can all write essays, which means you can all work with language. So let's work with language.\n"
   ]
  },
  {
   "cell_type": "markdown",
   "metadata": {},
   "source": [
    "# Operations with Strings\n",
    "\n",
    "Okay we lied to you. This next section will contain some information on numerical data to illustrate some important things about what we can do with strings in Python. Then we will focus exclusively on language, pinky-promise. \n",
    "\n",
    "When we are working with numbers, we are used to the idea that we can perform several type of operations on those numbers. By operation, I mean some process where we take in information (input) to spit out new information (output). For example, we can use addition to get the sum of two or more numbers: `5 + 2 = 7`; `3 + 4 + 5 = 12`. Or we could use multiplication to get the product of these numbers: `5 * 2 = 10`; `3 * 4 * 5 = 60`. Additionally, we perform operations like division or subtraction. \n",
    "\n",
    "When we work with text, however, we don't often think in terms of operations or of mechanical processes. For example, imagine you asked someone how to spell the word \"Weird\" and they said: \"Okay so you start with a 'W', and then you add an 'e' to it to get 'We', and then you add 'i' to get 'Wei', and then you add 'r' to  'Wei' to get 'Weir', and then finally you add 'd' to 'Weir' to get Weird..... :)\" You'd think they were weird (if not an outright moral degenerate), and you'd be right. Normally, when we use language, we use more intuitive processes (like sounding out how a word is spelt). But, in the magical world of Python, we can and often will perform operations on text (AKA strings). Two examples of string operations are \"String Addition\" and \"String Multiplication\"\n",
    "\n",
    "## String 'Addition' (String Concantenation)\n",
    "\n",
    "In python we can add two or more strings together: \n"
   ]
  },
  {
   "cell_type": "code",
   "execution_count": 21,
   "metadata": {},
   "outputs": [
    {
     "name": "stdout",
     "output_type": "stream",
     "text": [
      "handbag\n",
      "bulldog\n",
      "counterclockwise\n"
     ]
    }
   ],
   "source": [
    "## Execute the code below\n",
    "\n",
    "print('hand' + 'bag')\n",
    "print('bull' + 'dog')\n",
    "print('counter' + 'clock' + 'wise')"
   ]
  },
  {
   "cell_type": "markdown",
   "metadata": {},
   "source": [
    "This operation, adding two or more strings together, is called `String Concantenation`. Concantenation being the latin word for \"gluing crap together\" (no need to fact check this). \n",
    "\n",
    "You can see from the examples above, that concantenation (or string addition) takes whatever is inside one string and sticks it directly on to the end of the previous string with no space in between. This is in contrast to how addition works with numbers, where adding two or more numbers results in a seperate number. \n",
    "\n",
    "You can also perform string addition with string variables"
   ]
  },
  {
   "cell_type": "code",
   "execution_count": 22,
   "metadata": {},
   "outputs": [],
   "source": [
    "# Create two variables, one variable for your first name (label it first_name) and one variable for your last name (label it last_name), and then add those two variables together\n",
    "\n",
    "# Variable 1\n",
    "\n",
    "\n",
    "# Variable 2\n",
    "\n",
    "\n",
    "#print(variable1 + variable 2)\n",
    "\n"
   ]
  },
  {
   "cell_type": "markdown",
   "metadata": {},
   "source": [
    "As you can see, Python glues whatever was stored in the first_name variable directly onto the beginning of whatever was stored in the last_name variable. \n",
    "\n",
    "If we want to include a space between our two variables, there are two main approaches to achieving this"
   ]
  },
  {
   "cell_type": "code",
   "execution_count": 23,
   "metadata": {},
   "outputs": [
    {
     "name": "stdout",
     "output_type": "stream",
     "text": [
      "Grampton St.Rumpterfraple\n"
     ]
    }
   ],
   "source": [
    "## Approach 1. We can use a space either at the end of the first variable, or a space at the beginning of second variable, and them add the two variables together:\n",
    "\n",
    "space_first_name = \"Grampton \" ## put a space between the end of the name and the quotation mark\n",
    "no_space_last_name = \"St.Rumpterfraple\"\n",
    "print(space_first_name + no_space_last_name)\n"
   ]
  },
  {
   "cell_type": "code",
   "execution_count": 24,
   "metadata": {},
   "outputs": [
    {
     "name": "stdout",
     "output_type": "stream",
     "text": [
      "Grampton St.Rumpterfraple\n"
     ]
    }
   ],
   "source": [
    "\n",
    "no_space_first_name = \"Grampton\"\n",
    "space_last_name = \" St.Rumpterfraple\" ## put a space between the start of the name and the quotation mark\n",
    "\n",
    "print(no_space_first_name + space_last_name)\n",
    "\n"
   ]
  },
  {
   "cell_type": "markdown",
   "metadata": {},
   "source": [
    "This approach is fine if what you are printing is a once off (i.e., you are not using variables). \n",
    "\n",
    "If you are using variables, however, then the space will remain a part of our variable until we specifically change it. If we forget to do this, we can cause ourselves problems down the line (this will become clearer as the weeks go on).\n"
   ]
  },
  {
   "cell_type": "code",
   "execution_count": 25,
   "metadata": {},
   "outputs": [
    {
     "name": "stdout",
     "output_type": "stream",
     "text": [
      "Harry Potter\n"
     ]
    }
   ],
   "source": [
    "\n",
    "## Approach 2. A better approach is to add a string inbetween our two variables:\n",
    "\n",
    "my_first_name = \"Harry\"\n",
    "my_last_name = \"Potter\"\n",
    "\n",
    "print(my_first_name + \" \" + my_last_name)\n",
    "\n",
    "# The \" \" string adds a space between our two variables. \n"
   ]
  },
  {
   "cell_type": "code",
   "execution_count": 26,
   "metadata": {},
   "outputs": [],
   "source": [
    "### Use approach 2 to print out your full name, using the two variables you created earlier, with a space in between your first and last name. "
   ]
  },
  {
   "cell_type": "markdown",
   "metadata": {},
   "source": [
    "An important thing to note about string addition, is that it works exclusively with strings. You cannot add a string to an int or a string to a float. "
   ]
  },
  {
   "cell_type": "code",
   "execution_count": 27,
   "metadata": {},
   "outputs": [],
   "source": [
    "### Try adding a str to an int or to a float, notice the error message that pops up"
   ]
  },
  {
   "cell_type": "markdown",
   "metadata": {},
   "source": [
    "## String Multiplication (String Replication)\n",
    "\n",
    "You can also perform \"string multiplication\", an operation known as `string replication`. "
   ]
  },
  {
   "cell_type": "code",
   "execution_count": 28,
   "metadata": {},
   "outputs": [
    {
     "name": "stdout",
     "output_type": "stream",
     "text": [
      "aaa\n"
     ]
    }
   ],
   "source": [
    "print(\"a\" * 3)"
   ]
  },
  {
   "cell_type": "code",
   "execution_count": 29,
   "metadata": {},
   "outputs": [
    {
     "name": "stdout",
     "output_type": "stream",
     "text": [
      "dodo\n"
     ]
    }
   ],
   "source": [
    "print(\"do\"*2) #like the bird\n"
   ]
  },
  {
   "cell_type": "code",
   "execution_count": 1,
   "metadata": {},
   "outputs": [
    {
     "name": "stdout",
     "output_type": "stream",
     "text": [
      "Are we there yet? Are we there yet? Are we there yet? Are we there yet? Are we there yet? \n"
     ]
    }
   ],
   "source": [
    "print(\"Are we there yet? \" * 5) #Like your annoying little brother or sister. NOTE: I am using a space here at the end as I am just printing the string once off, I am not using a variable"
   ]
  },
  {
   "cell_type": "markdown",
   "metadata": {},
   "source": [
    "You can see in each case, that when we 'multiply' a string, we replicate it, and then add the replication onto to the end of our original string. You will also notice that, in contrast to string addition, you can combine strings and integers. Integers are used to specify the number of times you want to replicate the string. However, string replication does not work with floats. "
   ]
  },
  {
   "cell_type": "code",
   "execution_count": 2,
   "metadata": {},
   "outputs": [
    {
     "name": "stdout",
     "output_type": "stream",
     "text": [
      "Around the world, around the world\n",
      "Around the world, around the world\n",
      "Around the world, around the world\n",
      "Around the world, around the world\n",
      "Around the world, around the world\n",
      "Around the world, around the world\n",
      "Around the world, around the world\n",
      "Around the world, around the world\n",
      "\n"
     ]
    }
   ],
   "source": [
    "lyrics = \"Around the world, around the world\\n\" ## Do not worry about the \\n for now, this is just a special character that tells Python to create a new line after the string\n",
    "\n",
    "print(lyrics * 8) #Notice the \"TypeError\" message in the output. Have a read through it, and once you are ready, change the float 8.0 into an interval, and re-run the code. \n",
    "\n",
    "# There you have just printed out the first verse of Daft Punk's 1997 hit single \"Around the World\"! \n",
    "# You can change the 8 to 80 to print out the radio version of the song, \n",
    "# or you change it to 144 to print out the entire album version of the song. "
   ]
  },
  {
   "cell_type": "markdown",
   "metadata": {},
   "source": [
    "## String-Ception: Putting Strings Inside Other Strings\n",
    "\n",
    "A common operation that you will use in Python is putting a string(s) variables inside other strings. Technically we could achieve this by using string concatenation"
   ]
  },
  {
   "cell_type": "code",
   "execution_count": 4,
   "metadata": {},
   "outputs": [
    {
     "name": "stdout",
     "output_type": "stream",
     "text": [
      "Hi there, my name is Harry Potter. I studied Wizardry at the University of Hogwarts.\n"
     ]
    }
   ],
   "source": [
    "my_first_name = \"Harry\"\n",
    "my_last_name = \"Potter\"\n",
    "subject = \"Wizardry\"\n",
    "university = \"Hogwarts\"\n",
    "\n",
    "print(\"Hi there, my name is \" + my_first_name + \" \" + my_last_name + \". I studied \" + subject + \" at the University of \" +  university + \".\")"
   ]
  },
  {
   "cell_type": "markdown",
   "metadata": {},
   "source": [
    "But in order to print out this sentence in a correct manner, we need to perform string concantenation (using the '+' operator) multiple times in order to:\n",
    "\n",
    "I. To add the the string `\"Hi there, my name is \"` to the `my_first_name` variable\n",
    "\n",
    "II. To add the `my_first_name` variable to the string `\" \"`\n",
    "\n",
    "III. To add the string `\" \"` to the `my_last_name` variable\n",
    "\n",
    "IV. To add the `my_last_name` variable to the string `\". I studied \"`\n",
    "\n",
    "V. To add the string `\". I studied \"` to the `subject` variable\n",
    "\n",
    "VI. To add the `subject` variable to the string `\" at the University of \"`\n",
    "\n",
    "VII. To add the the string `\" at the University of \"` to the `university` variable\n",
    "\n",
    "VIII. Finally, to add the `university` variable to the the string `\".\"` . \n",
    "\n",
    "\n",
    "This is a **collosal pain in the ass**. We are always likely to make small mistakes (maybe we forget to leave a space between variables, or forget to add a full-stop)\n",
    "\n",
    "\n",
    "Instead of using the string concantenation operation here, a much handier approach is to use an `f-string operator`. `F-strings` are known as formatted strings (get it?), and they enable us to plug in our variables without the need to excessively worry about formatting. "
   ]
  },
  {
   "cell_type": "code",
   "execution_count": 5,
   "metadata": {},
   "outputs": [
    {
     "name": "stdout",
     "output_type": "stream",
     "text": [
      "Hi there, my name is Harry Potter. I studied Wizardry at the University of Hogwarts.\n"
     ]
    }
   ],
   "source": [
    "print(f\"Hi there, my name is {my_first_name} {my_last_name}. I studied {subject} at the University of {university}.\")# We know Hogwarts isn't a university you massive nerd. "
   ]
  },
  {
   "cell_type": "markdown",
   "metadata": {},
   "source": [
    "We place a **f** at the start of our string, and then wherever we want to plug in one of our variables, we use a curly bracket {} to tell Python we are inserting a variable in here, and then we type the variable name inside the curly bracket. So much easier! \n",
    "\n",
    "In the cell below print out a sentence stating your first name, last name, subject, and university, using the f-string operator.  \n",
    "\n",
    "\n"
   ]
  },
  {
   "cell_type": "code",
   "execution_count": null,
   "metadata": {},
   "outputs": [],
   "source": [
    "# Use your own variables you defined earlier for your first name and last name.\n",
    "\n",
    "\n",
    "# Copy and paste the Subject and Variables variables from up above here. Change the values assigned to those variables\n",
    "\n",
    "\n",
    "\n",
    "\n",
    "### Print your f-string\n",
    "\n"
   ]
  },
  {
   "cell_type": "markdown",
   "metadata": {},
   "source": [
    "Now let's introduce another important operation that we can run on strings: **Indexing**. "
   ]
  },
  {
   "cell_type": "markdown",
   "metadata": {},
   "source": [
    "\n",
    "## Indexing\n",
    "The index of a particular object is it's position in a collection of objects. That might seem like jargon (and in fairness it kind of is) but let's use a string as an example to clear that up. \n",
    "\n",
    "```\n",
    "m = 'hello world'\n",
    "```\n",
    "\n",
    "You already know that a string is an object made of alphanumeric characters enclosed in either single or double quotes, so in general we think of a string as an object unto itself, but, we can also think as a string as a collection of individual characters, each character (including spaces) can also be thought of as an object (essentially, python can treat a `string` as a `list` of alphanumeric objects enclosed in quotes instead of square brackets). \n",
    "\n",
    "The variable `m` that we assigned just above is a string which is 11 characters long. Each of those characters has a position within the string and this position is identified with a number. You might think that in `m` the position of the first character ('h') would be 1, but python is what's called a '0-indexed language', this means that we start counting positions from 0 instead of 1, this is demonstrated in the table below. \n",
    "\n",
    "\n",
    "|index | 0 | 1 | 2 | 3 | 4 | 5 | 6 | 7 | 8 | 9 | 10 |\n",
    "|:-----|:--|:-:|:-:|:-:|:-:|:-:|:-:|:-:|:-:|:-:|--:|\n",
    "|char  | h | e | l | l | o |   | w | o | r | l | d |\n",
    "\n",
    "This is quite powerful because it allows us to do things like search *within* an object, or pick an object apart. Let's start with just picking out the first character ('h') in `m`, it's really easy. "
   ]
  },
  {
   "cell_type": "code",
   "execution_count": null,
   "metadata": {},
   "outputs": [],
   "source": [
    "m = 'hello world' #assining 'hello world' to the variable m\n",
    "\n",
    "print(m[0])# Note the square brackets (like a list) and the int 0"
   ]
  },
  {
   "cell_type": "markdown",
   "metadata": {},
   "source": [
    "The first line in the cell above you already know, we've just taken a `string` variable ('hello world') and given it the label (assigned it to the `variable`)   - `m`. \n",
    "\n",
    "The second line is the magic. \n",
    "\n",
    "Remember that `m` represents our string so python knows that we are working on that parituclar object. Immediately after `m` we open square brackets `[` (like we used when we were making a list) then we put in the `index position` (represented by a number, look back up at the table above) and then we closed the square brackets `]`. This is the basic `syntax` for finding an object in a collection of objects. \n",
    "\n",
    "[`syntax` basically referes to a pattern of language, so when we use `syntax` in the context of code we just mean the pattern of code that you use to do particular thing. Basically, learning to code is just learning the patterns of a particular language.]\n",
    "\n",
    "So we can do the same thing with `lists`, and a very similar thing with `dicts` and full datasets (`DataFrames`, more on this in future sessions). \n",
    "\n",
    "lets take a list \n",
    "\n",
    "`beatles = ['John', 'Paul', 'George', 'Ringo']`\n",
    "\n",
    "This list is indexed exactly the same way as `m`\n",
    "\n",
    "|index | 0 | 1 | 2 | 3 |\n",
    "|:-----|:-:|:-:|:-:|:-:|\n",
    "|item  | 'John' | 'Paul' | 'George' | 'Ringo' |\n",
    "\n",
    "So we can use exactly the same `syntax` to find out what is at a particular `index` in the list. \n"
   ]
  },
  {
   "cell_type": "code",
   "execution_count": null,
   "metadata": {},
   "outputs": [],
   "source": [
    "beatles = ['John', 'Paul', 'George', 'Ringo'] #creating the list, and assigning it the variable beatles\n",
    "\n",
    "print(beatles[0])# getting the first object from the list beatles"
   ]
  },
  {
   "cell_type": "markdown",
   "metadata": {},
   "source": [
    "In the cell below, make a string and a list, assign both to a variable and try using the `syntax` we've just spoken about to pick out one of the elements of each.\n",
    "\n",
    "(again, don't forget to comment the code)"
   ]
  },
  {
   "cell_type": "code",
   "execution_count": null,
   "metadata": {},
   "outputs": [],
   "source": [
    "# Make your string varible below, just one word, maybe 5 letters long since wordle is a thing\n",
    "\n",
    "# Make your list varible below, put at least 5 items in your list, remember the can be ints, floats, strings, etc, so play around, or don't, I'm not your boss\n",
    "\n",
    "# Try selecting the 3rd character in your string (remember we start counting from 0)\n",
    "\n",
    "# Try selecting the 4th item in your list (again starting from 0)\n",
    "\n",
    "# Try selecting the 2nd character from one of the strings in your list."
   ]
  },
  {
   "cell_type": "markdown",
   "metadata": {},
   "source": [
    "Well done, you just worked with indexes for the first time. Although examples above are pretty simple, they are the foundation of some pretty useful tools in python, again imagine you had a really long list, or a very long string (or a big dataset), you can use similar syntax to engage with single parts of that object, you can move them around or you can save them to a seperate variable..."
   ]
  },
  {
   "cell_type": "code",
   "execution_count": null,
   "metadata": {},
   "outputs": [],
   "source": [
    "# run this cell and see if you can figure out what is going on, write in your own comments to explain the code (really look at the first line of code, you can go back up to see what m is if you need to)\n",
    "\n",
    "j = m[-1]\n",
    "k = beatles[2] \n",
    "\n",
    "print(j)\n",
    "print(k)"
   ]
  },
  {
   "cell_type": "markdown",
   "metadata": {},
   "source": [
    "We did a couple of things there, and one is kind of sneaky (sorry/not sorry). \n",
    "\n",
    "At the simplest level, we used our `indexing syntax` to extract a character from a string and *store it as a new variable*, then we used the same `syntax` to save 1 of the elements from our list sperately. Then we just got the computer to print out each of those new variables. It's worth noting that we haven't acctually changed the list or string, when we say we've 'extracted' a part of them we don't mean that we have literally just pulled them out, we just mean we've selected those bits of information and given us a way to access them easily, but the original items are still intact, run the cell below to see. "
   ]
  },
  {
   "cell_type": "code",
   "execution_count": null,
   "metadata": {},
   "outputs": [],
   "source": [
    "print(m)\n",
    "print(beatles)"
   ]
  },
  {
   "cell_type": "markdown",
   "metadata": {},
   "source": [
    "So the original object is undisturbed when we do this, but we can capture part of it, work with it, and then if we want to we can update the original object again (don't worry about updating for now, but it can be done.)\n",
    "\n",
    "...\n",
    "\n",
    "So....did you spot the sneaky thing we did when we created the variable `j`? \n",
    "\n",
    "**Didja?**\n",
    "\n",
    "We used `-1` as the index to get the last letter of `'hello world'`... 'd'. This is called negative indexing and it allows us to get the last (or second last and so on) item from a list or string *without having to know how many items are in the list*.\n",
    "\n",
    "**Awesome**, you probably think it's not, but believe me... it is, it inspires awe. \n",
    "\n",
    "OK so, we know that `m` is 11 characters long (remember that the space is also a character) so we could just use \n",
    "\n",
    "`m[10] # rememer that we count from 0` \n",
    "\n",
    "to get the last character, but if we don't know the length of the object (or can't be bothered to remember how long it is, lets be real here) we can use\n",
    "\n",
    "`m[-1] # using negative indexing instead of the 'actual' index postion` \n",
    "\n",
    "In the cell below, play around with `indexing`, positive (starting from 0) and negative (starting from minus 1) using the list and string variables you made earlier. You don't have to make them again, the `code cells` talk to each other so just make sure you've run all the cells above (start with the first one and make your way down in order). "
   ]
  },
  {
   "cell_type": "code",
   "execution_count": null,
   "metadata": {},
   "outputs": [],
   "source": [
    "# use this cell to play around with indexing, you can run the cell everytime you make a change\n",
    "# you might need to use 'print()' if you want to display a result when the cell runs\n",
    "# don't forget to comment your code\n",
    "\n",
    "\n",
    "\n"
   ]
  },
  {
   "cell_type": "markdown",
   "metadata": {},
   "source": [
    "Boom, you just used `indexing` to play around with lists and strings. You absolute **unit**. When it comes to indexing disctionaries it's a little more complex, but not a lot. Take a look at the code below for an example. "
   ]
  },
  {
   "cell_type": "code",
   "execution_count": null,
   "metadata": {},
   "outputs": [],
   "source": [
    "d = {'name':'Andrea','age':32, 'course': 'MA'} # a simple dict containing some demographic info\n",
    "d['name'] # using the 'key' to access the value in the dictionary"
   ]
  },
  {
   "cell_type": "markdown",
   "metadata": {},
   "source": [
    "In the case of a `dict` the `syntax` is really similar, 'cept we use the `key` of the `key:value` pair instead of a numerical index. \n",
    "\n",
    "**The key 'unlocks' the value...**\n",
    "\n",
    "Sorry, we probably didn't need to put that in bold... that's just what helped us remember it. \n",
    "\n",
    "This gets cool when have more complex `dicts` (like dataset)"
   ]
  },
  {
   "cell_type": "code",
   "execution_count": null,
   "metadata": {},
   "outputs": [],
   "source": [
    "# lets make a dict of participants (each participant is their own dict)\n",
    "participants =  {'aa01':{'age':32, 'gender':'male', 'condition':'Control', 'score':7},'aa02':{'age':50, 'gender':'female', 'condition':'Experimental', 'score':4}}\n",
    "\n",
    "\n",
    "participants['aa01']['score']# getting participant aa01's score"
   ]
  },
  {
   "cell_type": "markdown",
   "metadata": {},
   "source": [
    "As you can see up above, `participants` is a `dict` of `dicts` and we have basically stacked `keys` (with each individivual `key` enclosed in square brackts) to drill down into the dict to pull out a specific value. In the cell below, try to get the gender and age of participant 'aa02'"
   ]
  },
  {
   "cell_type": "code",
   "execution_count": null,
   "metadata": {},
   "outputs": [],
   "source": [
    "# extract the gender on the next line\n",
    "\n",
    "\n",
    "# extract the age on the next line\n",
    "\n"
   ]
  },
  {
   "cell_type": "markdown",
   "metadata": {},
   "source": [
    "This was just an introduction to indexing, and we'll play around with it more when we start working with full datasets, but if you want to learn more about it you can check out [this tutorial](https://pythonguides.com/indexing-and-slicing-in-python/), it will give you more examples, and also will introduce you to something called `slicing`. We'll cover `slicing` ourselves later, but you should feel free to dive into it yourselves. Don't forget that you have a spare jupyter notebook made in week one that you can play around in if you want (and we strongly encourage it). For now we're going to move on to... \n",
    "\n",
    "# Functions\n",
    "Before we get into what functions are, we need to appologise, for you see, we tricked you. We tricked you into useing functions without telling you... and we're deeply sorry (cough)... \n",
    "\n",
    "`print('Hello world')`\n",
    "\n",
    "That line of `code` tells the computer to write out the `string` 'Hello world'. Getting the computer to write something out actually requires a lot of code, but thanks to `functions` we can 'compress' all that code, all its functionality, into a simple-to-type statement *followed by a pair of brackets*. You've also seen another function:\n",
    "\n",
    "`type('Hello world')`\n",
    "\n",
    "This line tells python to find the datatype of the object between the brackets. Again, theres a lot of code 'hidden' behind `type()` but we don't need to worry about that now, right now we just want to pay attention to the `syntax` for both of those functions: \n",
    "\n",
    "\n",
    "`function_name(thing to run the function on, also called an argument)`\n",
    "\n",
    "we start by typing the name of the function (print, or type in the examples we've used so far), then we open brackets, then we enter the object we want the function to work on, then we close the brackets. We have laid out some `code cells` below that demonstrates this, run each cell and write in some comments explaining whats happening in each line. "
   ]
  },
  {
   "cell_type": "code",
   "execution_count": null,
   "metadata": {},
   "outputs": [],
   "source": [
    "a = 'This is a string'#\n",
    "b = 10#\n",
    "c = ['Sarah', 'Navid', 'Robert', 'Noura']#"
   ]
  },
  {
   "cell_type": "code",
   "execution_count": null,
   "metadata": {},
   "outputs": [],
   "source": [
    "print(a)#"
   ]
  },
  {
   "cell_type": "code",
   "execution_count": null,
   "metadata": {},
   "outputs": [],
   "source": [
    "type(b)#"
   ]
  },
  {
   "cell_type": "code",
   "execution_count": null,
   "metadata": {},
   "outputs": [],
   "source": [
    "# note this cell!\n",
    "print(type(c[1]))#"
   ]
  },
  {
   "cell_type": "code",
   "execution_count": null,
   "metadata": {},
   "outputs": [],
   "source": [
    "d = len(c)# len() is the function that tells us the length of an object. \n",
    "print(d)# "
   ]
  },
  {
   "cell_type": "markdown",
   "metadata": {},
   "source": [
    "In the above cells, we `defined` a few `variables` and `called` a few `functions` on them. In the 3rd cell we actually `called` a `function` *within* another `function`, and in the 4th one, we used a `function` to *create* a `variable`, all with really small amounts of typing on our part. This should demonstrate that functions are really useful. Let's look at how `functions` are made (the `syntax` of `defining a function`)\n",
    "\n",
    "## Defining our own funtions\n",
    "Lets imagine that we want to have the computer take any number and multiply it by 42 (get it?) and then print out the result. We know that this is a simple example, but go stick with us here. \n",
    "\n",
    "if we were only doing it once we would just write\n",
    "\n",
    "```\n",
    "#lets just use 3 for this example\n",
    "print(3*42)\n",
    "```\n",
    "\n",
    "However, if we want to have the ability to do this often, we might want to make a function that does this for us..."
   ]
  },
  {
   "cell_type": "code",
   "execution_count": 32,
   "metadata": {},
   "outputs": [],
   "source": [
    "def my_func(i): # def is short for define, i is a placeholder variable, not the colon after the brackets\n",
    "    print(i*42)# note the indentation, indentation is really important, we indent using 'tab' (or 4 spaces, but don't do that)"
   ]
  },
  {
   "cell_type": "markdown",
   "metadata": {},
   "source": [
    "OK, so we hear you asking\n",
    "\n",
    "*What, in the name of mercy, did we just do?*\n",
    "\n",
    "And that's a good question, but there's no need to get upset. Let's walk through each part of the `syntax`.\n",
    "\n",
    " 1. When making a function we start on a newline with the term `def` which is short for 'define' (in technical terms we're 'defining' a function). \n",
    " 2. Then we type the name for our functions (in that example we just called it `my_func`, using underscore instead of spaces).\n",
    " 3. Then we open brackets, put in a placeholder variable (`i` in this case, but it could be `x` or `banana`), then close the brackets.\n",
    " 4. Then we finish that line with a colon (:)\n",
    " 5. Then we go to a newline\n",
    " 6. Then we `indent` the line with either a 'tab' or 4 spaces (don't use 4 spaces, it'll work but just... don't be that guy)\n",
    " 7. Then we can start putting in the functionality\n",
    "\n",
    "Indentaion is a whole thing in python, it has to do with something called `scope` and we'll cover it more in more detail in later sessions, but for right now just know that in simple functions, every new line under the `def` line (after the colon) starts with an indentation. Because we're working in VScode, and we've told VScode that we're working in python, it will *usually* put the indentation in for you, but there will be times when you need to manage the indentation yourself. \n",
    "\n",
    "In the cell below, we've defined a function with incorrect indentation, run the cell first, read the error, then go back and fix the indentation (and for the love of God, use tab not 4-spaces)"
   ]
  },
  {
   "cell_type": "code",
   "execution_count": null,
   "metadata": {},
   "outputs": [],
   "source": [
    "def new_function(): # we're not putting a placeholder variable in this cause we don't need it\n",
    "print('This')# We're splitting the functionality up into multiple lines\n",
    "print('Function')\n",
    "print('Works')#"
   ]
  },
  {
   "cell_type": "markdown",
   "metadata": {},
   "source": [
    "You'll notice that before we fix the cell up above we get an error (called a `traceback` in python language, can you think of why?) but once we fix the indentation we get no out put from the cell, this is because we just `defined` the `function`, we never `called` it. Calling a function is easy:"
   ]
  },
  {
   "cell_type": "code",
   "execution_count": 33,
   "metadata": {},
   "outputs": [
    {
     "name": "stdout",
     "output_type": "stream",
     "text": [
      "504\n"
     ]
    }
   ],
   "source": [
    "my_func(12)#calling the 'my_func()' function to multiple 12 by 42"
   ]
  },
  {
   "cell_type": "markdown",
   "metadata": {},
   "source": [
    "This is exactly the same as using the `print()` and `type()` functions in the earlier examples. \n",
    "\n",
    "OK, now for the final excercise of this week we want you to `define` a `function` that uses a little bit of everything we've covered this week. \n",
    "\n",
    "This function should take a string as an `argument` (the bit between the brackets) and then, using `f-strings` and `indexing` prints out something like\n",
    "\n",
    "`This is my string: (string); and its last letter is (last letter)`\n",
    "\n",
    "All the `syntax` you need is in this notebook, just take your time and think about the 'order' that you want things to happen in, don't forget to comment your code and don't forget to call the function once it's working. \n",
    "\n"
   ]
  },
  {
   "cell_type": "code",
   "execution_count": null,
   "metadata": {},
   "outputs": [],
   "source": [
    "# define a function that takes a string as an argument and prints out an 'f-string' containing the whole string and the last character\n",
    "\n",
    "\n",
    "\n",
    "\n",
    "# call your function here"
   ]
  },
  {
   "cell_type": "markdown",
   "metadata": {},
   "source": [
    "OK, well done. Some of you might have found that easy, some may have found it more challenging, and you might need to practice those things a few times, but remember, you can always read back through the notebooks, you can also look for tutorials online, and you can also ask for help (from eachother, us, or the internets)\n",
    "\n",
    "Next week we'll talk about such amazing topics as `methods` (another word that doesn't mean what you think it means), `modules`(there's another) and the standard library, and `virtualenvs`. If you want to you can go look these up now, or you can wait for us to bring you through them. \n",
    "\n",
    "Thanks a lot for sticking with us this week, and make sure you run your work by us before you go. \n",
    "\n",
    "\n",
    "Best wishes, \n",
    "\n",
    "Ryan and Kev "
   ]
  }
 ],
 "metadata": {
  "interpreter": {
   "hash": "da3e0b0f4dc5d44db4d7e0a7396f401911ef6d0325c18f6517bd5ad3af6d2cfb"
  },
  "kernelspec": {
   "display_name": "Python 3.9.6 64-bit ('research': venv)",
   "language": "python",
   "name": "python3"
  },
  "language_info": {
   "codemirror_mode": {
    "name": "ipython",
    "version": 3
   },
   "file_extension": ".py",
   "mimetype": "text/x-python",
   "name": "python",
   "nbconvert_exporter": "python",
   "pygments_lexer": "ipython3",
   "version": "3.9.6"
  },
  "orig_nbformat": 4
 },
 "nbformat": 4,
 "nbformat_minor": 2
}
