{
 "cells": [
  {
   "cell_type": "markdown",
   "metadata": {},
   "source": [
    "# Pay Day\n",
    "\n",
    "Up until now, we have been building up our competencies in Python so that we have an appropriate (if not fully formed) sense of what the language looks like, its various components and their functionality, and how it treats its objects. It is only recently, however, that have we started working with the type of datasets that you would use in your own research. Even then, we have focused on how to clean your data to enable statistical analysis, without actually performing any statistical analysis. Given that many of you are likely experienced users in SPSS, this may have been a frustrating experience - even after several weeks, you are still yet to run the type of analyses that you could do in an afternoon with SPSS. \n",
    "\n",
    "This frustration is one of the reasons that people persist with programs like SPSS - there is less preparation work needed to be able to run statistical analysis, because you do not need to know how SPSS really works to produce an output, you just need to know where to point and click. \n",
    "\n",
    "The benefit of learning Python, however, is that you can make use of its flexibility to perform scalable, powerful, and transparent statistical analyses in the future. Additionally, it will also make you more powerful in the marketplace. As psychologists, you are or will be trained to communicate effectively. And while some of our best friends are programmers, a lot of those folks are not effective communicators. So if you can combine decent programming (and by decent, I mean you can run the statistical analyses you need to run, not that you need to be a master hacker) with effective communication skills, then you will be deadly (Recommended reading: Cal Newport's - So Good They Can't Ignore You). In short, Python (and R, but thats for later) will provide a return on investments that SPSS will never be able to achieve (if you persist with it, that is). \n",
    "\n",
    "So today, we want to starting paying out some of those dividends on your investment. In this workshop, we will perform various types of statistical analysis; we are going to learn how to sort our data, and describing our data (e.g., descriptive statistics).\n",
    "\n",
    "## Load our Dataset and our Packages\n",
    "\n",
    "Let's get our packages and our dataframe ready."
   ]
  },
  {
   "cell_type": "code",
   "execution_count": 59,
   "metadata": {},
   "outputs": [],
   "source": [
    "#Import packages pandas, numpy and pathlib\n"
   ]
  },
  {
   "cell_type": "code",
   "execution_count": 5,
   "metadata": {},
   "outputs": [
    {
     "data": {
      "text/html": [
       "<div>\n",
       "<style scoped>\n",
       "    .dataframe tbody tr th:only-of-type {\n",
       "        vertical-align: middle;\n",
       "    }\n",
       "\n",
       "    .dataframe tbody tr th {\n",
       "        vertical-align: top;\n",
       "    }\n",
       "\n",
       "    .dataframe thead th {\n",
       "        text-align: right;\n",
       "    }\n",
       "</style>\n",
       "<table border=\"1\" class=\"dataframe\">\n",
       "  <thead>\n",
       "    <tr style=\"text-align: right;\">\n",
       "      <th></th>\n",
       "      <th>Director</th>\n",
       "      <th>Movie Title</th>\n",
       "      <th>Genre</th>\n",
       "      <th>Year of Release</th>\n",
       "      <th>ImdB Score</th>\n",
       "      <th>Rotten Tomatoes' Critic Scores</th>\n",
       "      <th>Rotten Tomatoes' Fan Scores</th>\n",
       "      <th>Gender of Lead</th>\n",
       "    </tr>\n",
       "  </thead>\n",
       "  <tbody>\n",
       "    <tr>\n",
       "      <th>0</th>\n",
       "      <td>John Carpenter</td>\n",
       "      <td>The Thing</td>\n",
       "      <td>Horror</td>\n",
       "      <td>1982</td>\n",
       "      <td>82.0</td>\n",
       "      <td>82.0</td>\n",
       "      <td>92.0</td>\n",
       "      <td>Male</td>\n",
       "    </tr>\n",
       "    <tr>\n",
       "      <th>1</th>\n",
       "      <td>Nicolas Winding Refn</td>\n",
       "      <td>Drive</td>\n",
       "      <td>Action</td>\n",
       "      <td>2011</td>\n",
       "      <td>78.0</td>\n",
       "      <td>93.0</td>\n",
       "      <td>79.0</td>\n",
       "      <td>Male</td>\n",
       "    </tr>\n",
       "    <tr>\n",
       "      <th>2</th>\n",
       "      <td>Matthijs van Heijningen</td>\n",
       "      <td>The Thing</td>\n",
       "      <td>Horror</td>\n",
       "      <td>2011</td>\n",
       "      <td>62.0</td>\n",
       "      <td>34.0</td>\n",
       "      <td>42.0</td>\n",
       "      <td>Female</td>\n",
       "    </tr>\n",
       "    <tr>\n",
       "      <th>3</th>\n",
       "      <td>Dennis Villanueve</td>\n",
       "      <td>Arrival</td>\n",
       "      <td>Sci-Fi</td>\n",
       "      <td>2016</td>\n",
       "      <td>79.0</td>\n",
       "      <td>94.0</td>\n",
       "      <td>82.0</td>\n",
       "      <td>Male</td>\n",
       "    </tr>\n",
       "    <tr>\n",
       "      <th>4</th>\n",
       "      <td>Coen Brothers</td>\n",
       "      <td>No Country for Old Men</td>\n",
       "      <td>Drama</td>\n",
       "      <td>2007</td>\n",
       "      <td>82.0</td>\n",
       "      <td>93.0</td>\n",
       "      <td>86.0</td>\n",
       "      <td>Male</td>\n",
       "    </tr>\n",
       "  </tbody>\n",
       "</table>\n",
       "</div>"
      ],
      "text/plain": [
       "                  Director             Movie Title   Genre Year of Release  \\\n",
       "0           John Carpenter               The Thing  Horror            1982   \n",
       "1     Nicolas Winding Refn                   Drive  Action            2011   \n",
       "2  Matthijs van Heijningen               The Thing  Horror            2011   \n",
       "3        Dennis Villanueve                 Arrival  Sci-Fi            2016   \n",
       "4            Coen Brothers  No Country for Old Men   Drama            2007   \n",
       "\n",
       "   ImdB Score  Rotten Tomatoes' Critic Scores  Rotten Tomatoes' Fan Scores  \\\n",
       "0        82.0                            82.0                         92.0   \n",
       "1        78.0                            93.0                         79.0   \n",
       "2        62.0                            34.0                         42.0   \n",
       "3        79.0                            94.0                         82.0   \n",
       "4        82.0                            93.0                         86.0   \n",
       "\n",
       "  Gender of Lead  \n",
       "0           Male  \n",
       "1           Male  \n",
       "2         Female  \n",
       "3           Male  \n",
       "4           Male  "
      ]
     },
     "execution_count": 5,
     "metadata": {},
     "output_type": "execute_result"
    }
   ],
   "source": [
    "# I have made adjustements to the df_movie dataframe to add more films and create an equal amount of films that have either a male/female lead.\n",
    "\n",
    "director = ['John Carpenter', 'Nicolas Winding Refn', 'Matthijs van Heijningen', 'Dennis Villanueve', 'Coen Brothers', 'Kelly Asbury', 'Edgar Wright', 'Coen Brothers', 'Ridley Scott', 'Greta Gerwig', 'James Cameron', 'Dan Trachtenberg', 'Annihilation', 'Dennis Villanueve']\n",
    "movie = ['The Thing', 'Drive', 'The Thing', 'Arrival', 'No Country for Old Men', 'Shrek 2', 'Hot Fuzz', 'Fargo', 'Alien', 'Lady Bird', 'Terminator 2', '10 Cloverfield Lane', 'Annihilation', 'Blade Runner 2049']\n",
    "genre = ['Horror', 'Action', 'Horror', 'Sci-Fi', 'Drama', 'Comedy', 'Comedy', 'Dark Comedy', 'Horror', 'Drama', 'Action', 'Horror', 'Horror', 'Sci-Fi']\n",
    "year = ['1982', '2011', '2011', '2016', '2007', '2004', '2007', '1996', '1979', '2017', '1992', '2016', '2018', '2017']\n",
    "imdb = [82.0, 78.0, 62.0, 79.0, 82.0, 73.0, 78.0, 81.0, 85.0, 74.0, 86.0, 72.0, 68.00, 80.0]\n",
    "rt_critics = [82.0, 93.0, 34.0, 94.0, 93.0, 89.0, 91.0, 94.0, 98.0, 99.0, 93.0, 90.0, 88.0, 88.0]\n",
    "rt_fans = [92.0, 79.0, 42.0, 82.0, 86.0, 69.0, 89.0, 93.0, 94.0, 79.0, 95.0, 79.0, 66.0, 81.0]\n",
    "gender_of_lead = ['Male', 'Male', 'Female', 'Male', 'Male', 'Male', 'Male', 'Female', 'Female', 'Female', 'Female', 'Female', 'Female', 'Male']\n",
    "\n",
    "df = pd.DataFrame(# opening brackets but moving to new line for readability, note the uppercase D and F in the call\n",
    "    list(zip(director, movie, genre, year, imdb, rt_critics, rt_fans, gender_of_lead)), #first argument note the comma at the end of it, this is a couple of nested functions\n",
    "    columns = ['Director', 'Movie Title', 'Genre', 'Year of Release', 'ImdB Score', \"Rotten Tomatoes' Critic Scores\", \"Rotten Tomatoes' Fan Scores\", 'Gender of Lead']# second argument , passing a list to the columns arguments\n",
    "    )# closing the first pair of brackets to complete the function call\n",
    "\n",
    "df.head()"
   ]
  },
  {
   "cell_type": "markdown",
   "metadata": {},
   "source": [
    "## Sorting our Data\n",
    "\n",
    "Sorting is an important tool that can use to get an intuitive feel for your dataframe. \n",
    "\n",
    "In this section, we are going to look at how to sort by specific columns, by multiple columns, and how to sort from the smallest-largest or largest-smallest values within columns. \n",
    "\n",
    "Let's say we want to sort our dataframe by year of release - we can do that by running the following code cell. "
   ]
  },
  {
   "cell_type": "code",
   "execution_count": null,
   "metadata": {},
   "outputs": [],
   "source": [
    "df.sort_values(by = \"Year of Release\")\n",
    "\n",
    "#we apply the sort_values function onto our dataframe, df. \n",
    "#We use \"by\" to indicate the column that we want to sort our dataframe by. \n"
   ]
  },
  {
   "cell_type": "markdown",
   "metadata": {},
   "source": [
    "This returns our dataframe, but ordered by the year of the release. In this case, the dataframe is sorted in ascending order: it beings with the smallest value first and finishes with the largest value. \n",
    "\n",
    "If we want to order the dataframe in descending order, we need to add an argument (i.e., instruction) to our sort_values function. Run the following code cell and compare it to the one above. "
   ]
  },
  {
   "cell_type": "code",
   "execution_count": null,
   "metadata": {},
   "outputs": [],
   "source": [
    "df.sort_values(by = \"Year of Release\", ascending= False)"
   ]
  },
  {
   "cell_type": "markdown",
   "metadata": {},
   "source": [
    "The ascending arguments specifies whether we want our data to be ascending. There are two values that we can pass to this argument: `True` (i.e., Yes, please sort our data from smallest to largest) or `False` (i.e., No, please sort our data from largest to smallest instead). If we do not add `ascending = False`, then sort_values orders by ascending by default. \n",
    "\n",
    "Now if you look at your dataframe, you may have noticed that the values in the `Year of Release` column are strings. If the strings are numerical, then ascending/descending works the same as if the values were integer or float. If the values are alphabetically, then ascending/descending still works, but it does so in an alphabetically order (i.e., A ('smallest value') to B to C....to Y to Z('largest value')). If a column contains both alphabetical and numerical values, numerical values come first. \n",
    "\n",
    "In the following code cell, sort the data by the `Movie Title` column in ascending order."
   ]
  },
  {
   "cell_type": "code",
   "execution_count": null,
   "metadata": {},
   "outputs": [],
   "source": [
    "#sort by movie column dataframe - ascending"
   ]
  },
  {
   "cell_type": "markdown",
   "metadata": {},
   "source": [
    "You can see that 10 Cloverfield Lane comes before Alien which comes before Annihiliation (Al comes before Ah), and that The Thing (x2) comes last. Now try sort the dataframe by the same column, but this time do so in descending order. "
   ]
  },
  {
   "cell_type": "code",
   "execution_count": 14,
   "metadata": {},
   "outputs": [],
   "source": [
    "#sort by movie column dataframe - descending\n"
   ]
  },
  {
   "cell_type": "markdown",
   "metadata": {},
   "source": [
    "Great. So we can see that `The Thing` comes in the first two rows of our sorted dataframe. John Carpenter's vastly superior (and one of the greatest horror movies ever made) 1982 version of the `The Thing` rightly comes ahead of the 2011 CGI crappy knock-off, but, Python has not decided not based on wonderful taste in film, but because in the original dataframe, the 1982 version of `The Thing` is entered before the 2011 version (or more technically, it has a lower index). Therefore, even though they have the same value, Python uses the original index to order between identical values. \n",
    "\n",
    "In cases where we have identical values in one column, we can sort by multiple columns to arrange the data in a more specific manner. "
   ]
  },
  {
   "cell_type": "code",
   "execution_count": null,
   "metadata": {},
   "outputs": [],
   "source": [
    "df.sort_values(by = [\"Movie Title\", \"Year of Release\"], ascending= False)\n",
    "\n",
    "# we pass a list to the \"by\" argument. The list enables us to say:\n",
    "\n",
    "# by = [sort_by_this_value_first, then_this_value1, then_this_value2.......n]"
   ]
  },
  {
   "cell_type": "markdown",
   "metadata": {},
   "source": [
    "We can do a similiar thing with the ascending argument. Maybe we want to sort `Movie Title` by ascending order, but the year of release in descending order. In this case, both The Things should be at the bottom of the dataframe, but the 2011 version should come before the 1982 version.\n",
    "\n",
    "Run the code below to see what happens. "
   ]
  },
  {
   "cell_type": "code",
   "execution_count": null,
   "metadata": {},
   "outputs": [],
   "source": [
    "df.sort_values(by = [\"Movie Title\", \"Year of Release\"], ascending= [True, False])\n"
   ]
  },
  {
   "cell_type": "markdown",
   "metadata": {},
   "source": [
    "While all the above commands sort our dataframe, it is a once-off output. If we want to save the ordering of our dataframe, we need to assign the output of our sorting to a variable. Additionally, we would want our new ordered dataframe to adjust its index accordingly (so that whatever is first in the new dataframe has a new index of 0, rather than its old index). \n",
    "\n",
    "To do that, we can use the `reset_index` method. "
   ]
  },
  {
   "cell_type": "code",
   "execution_count": null,
   "metadata": {},
   "outputs": [],
   "source": [
    "df_new = df.sort_values(by = [\"Movie Title\", \"Year of Release\"], ascending= [True, False])\n",
    "\n",
    "df_new = df_new.reset_index(drop=True)\n",
    "\n",
    "df_new"
   ]
  },
  {
   "cell_type": "code",
   "execution_count": null,
   "metadata": {},
   "outputs": [],
   "source": [
    "#### In this cell, sort the movies by the genre of the movie (either in ascending or descending order)\n",
    "\n"
   ]
  },
  {
   "cell_type": "code",
   "execution_count": null,
   "metadata": {},
   "outputs": [],
   "source": [
    "#In this cell, sort the movies by genre of the movies first, then by Imdb Score. \n",
    "#Make sure to sort one column by ascending order, and the other by descending.\n",
    "\n",
    "\n",
    "\n",
    "#Save the sorted dataframe to df_new "
   ]
  },
  {
   "cell_type": "markdown",
   "metadata": {},
   "source": [
    "Good job, now that we are sorted with dealing with dealing with dataframes, let's actually go about describing the data the data we have in those dataframes. "
   ]
  },
  {
   "cell_type": "markdown",
   "metadata": {},
   "source": [
    "## Descriptive Statistics\n",
    "\n",
    "### Frequency Analysis\n",
    "\n",
    "One of the first things we do with our dataframes in SPSS is click \"Analyse - Descriptive - Frequency Analysis\". To do the equivalent in Python, we can use the value counts function"
   ]
  },
  {
   "cell_type": "code",
   "execution_count": null,
   "metadata": {},
   "outputs": [],
   "source": [
    "#value count\n",
    "\n",
    "df[\"Genre\"].value_counts()\n"
   ]
  },
  {
   "cell_type": "markdown",
   "metadata": {},
   "source": [
    "The value counts goes through every item in the list for `Genre` and counts how many instances there are of that item. We can amend the `value_counts()` function to identify the frequency in which a particular value shows up within our column. "
   ]
  },
  {
   "cell_type": "code",
   "execution_count": null,
   "metadata": {},
   "outputs": [],
   "source": [
    "## We can also identify the percentage for each value by adding an argument within our value_counts function\n",
    "\n",
    "df[\"Genre\"].value_counts(normalize=True)"
   ]
  },
  {
   "cell_type": "markdown",
   "metadata": {},
   "source": [
    "The above code breakdowns the decimal frequency of each of the values within our Genre column. If we want to convert each value into a percentage output, we can apply two techniques:\n",
    "\n",
    "The `apply` method and the `lambda` function.\n",
    "\n",
    "The `apply()` method acts as an alternative to looping over a dataframe. It can apply a function across an entire Dataframe (or across all the values within a specified column in that dataframe).\n",
    "\n",
    "The `lambda` function assign multiple variables to an argument, and then perform operations on that argument (thereby performing that operation for each variable). Run the following code cell. \n",
    "\n"
   ]
  },
  {
   "cell_type": "code",
   "execution_count": null,
   "metadata": {},
   "outputs": [],
   "source": [
    "df[\"Genre\"].value_counts(normalize=True).apply(lambda x: f\"{x * 100:.02f}%\")\n",
    "\n",
    "## The .02f, means = for any floats, we want there to be 2 (.02) decimal places. \n",
    "\n",
    "# The apply method is use here to apply a lambda function for each value within the Genre column\n",
    "\n",
    "#The lambda function then takes each value and assigns it to the x (a placeholder variable), and then with \"0.2f\" - formats x as a float with two decimal places (0.2f)"
   ]
  },
  {
   "cell_type": "code",
   "execution_count": null,
   "metadata": {},
   "outputs": [],
   "source": [
    "#use the value counts function to return the number of males and females leads within our movies.\n",
    "#make sure to use the print function to return both results. \n",
    "\n",
    "\n",
    "#use apply and lambda to convert and return that number into a percentage"
   ]
  },
  {
   "cell_type": "markdown",
   "metadata": {},
   "source": [
    "\n",
    "### Calculate Central Tendency and Dispersion\n",
    "\n",
    "Let's calculate the mean, median, and mode for the ImDb scores. "
   ]
  },
  {
   "cell_type": "code",
   "execution_count": null,
   "metadata": {},
   "outputs": [],
   "source": [
    "mean = df_new[\"ImdB Score\"].mean()\n",
    "print(f\"The mean ImDb score is {mean}\")\n",
    "\n",
    "med = df_new[\"ImdB Score\"].median()\n",
    "print(f\"The median ImDb score is {med}\")\n",
    "\n",
    "mod = df_new[\"ImdB Score\"].mode()\n",
    "print(f\"The mean ImDb score is {mod}\") ##This will print out four values: index of mode1 - Mode1, index of mode2 - Mode2\n",
    "\n",
    "#You will see this more clearly if you print the mode without the f-string below"
   ]
  },
  {
   "cell_type": "markdown",
   "metadata": {},
   "source": [
    "If we want to get a broad overview of our data, including calculating the measures of dispersion in our data, we can use the `describe` function. "
   ]
  },
  {
   "cell_type": "code",
   "execution_count": null,
   "metadata": {},
   "outputs": [],
   "source": [
    "df_new.describe()"
   ]
  },
  {
   "cell_type": "markdown",
   "metadata": {},
   "source": [
    "The describe function identifies any column that contains numerical values and calculates a host of descriptive statistics for us, including the number of participants who have provided a value for that value (count), measures of dispersion. We can also use a function, `applymap`, to tidy up the output of these descriptive statistics (i.e., let's round to two decimal places)"
   ]
  },
  {
   "cell_type": "code",
   "execution_count": null,
   "metadata": {},
   "outputs": [],
   "source": [
    "df_new.describe().applymap(lambda x: f'{x:0.2f}')\n"
   ]
  },
  {
   "cell_type": "markdown",
   "metadata": {},
   "source": [
    "We can also run the describe function on a single column. If we want to format the results for a single column however, we use the `apply` function rather than the `applymap` function, as the `applymap` function requires multiple lists to work with, rather than a single one. "
   ]
  },
  {
   "cell_type": "code",
   "execution_count": null,
   "metadata": {},
   "outputs": [],
   "source": [
    "df_new[\"ImdB Score\"].describe().apply(lambda x: f'{x:0.2f}')\n"
   ]
  },
  {
   "cell_type": "markdown",
   "metadata": {},
   "source": [
    "We can also specify the specific statistics that we need for a particular column, by using the `agg` method."
   ]
  },
  {
   "cell_type": "code",
   "execution_count": null,
   "metadata": {},
   "outputs": [],
   "source": [
    "df_new[\"ImdB Score\"].agg([\"count\", \"mean\", \"std\"]).apply(lambda x: f'{x:0.2f}')\n"
   ]
  },
  {
   "cell_type": "markdown",
   "metadata": {},
   "source": [
    "### Create new Variable - Mean Review Score\n",
    "\n",
    "Before we start analysing data across differences in groups, let's create a new variable, called `Average Rating`. Average rating will consist of the mean score for Movie across ImDb, Rotten Tomatoes' Fans, and Rotten Tomatoes Critics ratings. We are then "
   ]
  },
  {
   "cell_type": "code",
   "execution_count": null,
   "metadata": {},
   "outputs": [],
   "source": [
    "df_new[\"Average Rating\"] = df_new[[\"ImdB Score\", \"Rotten Tomatoes' Fan Scores\", \"Rotten Tomatoes' Critic Scores\"]].mean(axis = 1).apply(lambda x: f'{x:.02f}')\n",
    "\n",
    "df_new\n",
    "\n",
    "#This line of code creates a new column \"Average Rating\" in our df_new dataframe, that takes the scores from three columns, calculates their mean, formats it two decimal places,\n",
    "# and then outputs the result into our new column. For the mean(axis = 1) means that are calculating the each new score from three seperate columns, rather than three seperate rows\n",
    "#See what happens if you change axis = 0\n"
   ]
  },
  {
   "cell_type": "code",
   "execution_count": null,
   "metadata": {},
   "outputs": [],
   "source": [
    "#Now let's create a dataframe where we will focus our analysis on going forward. Let's call it df_analysis\n",
    "\n",
    "df_analysis = df_new[['Movie Title', 'Director', 'Genre', 'Gender of Lead', \"Average Rating\", 'ImdB Score', \"Rotten Tomatoes' Critic Scores\", \"Rotten Tomatoes' Fan Scores\", 'Year of Release']]\n",
    "\n",
    "#We will rearrange the column so that the data is a bit tidier given our aims\n",
    "\n",
    "df_analysis"
   ]
  },
  {
   "cell_type": "markdown",
   "metadata": {},
   "source": [
    "## Describing Data based on Groups\n",
    "\n",
    "We can also break up the results to determine the number and percentages of males and females per genre of movie. To do this, we can use a function called `groupby`. \n",
    "\n",
    "The `groupby` function involes i) splitting our object, ii) applying a function, and then iii) combining the results. "
   ]
  },
  {
   "cell_type": "code",
   "execution_count": 41,
   "metadata": {},
   "outputs": [
    {
     "name": "stdout",
     "output_type": "stream",
     "text": [
      "<pandas.core.groupby.generic.DataFrameGroupBy object at 0x000001EA0F1D6E20>\n"
     ]
    }
   ],
   "source": [
    "#i splitting our object\n",
    "\n",
    "gender_groups = df_analysis.groupby([\"Gender of Lead\"]) #creating a variable for later use\n",
    "\n",
    "print(gender_groups)"
   ]
  },
  {
   "cell_type": "markdown",
   "metadata": {},
   "source": [
    "The variable `gender_groups` returns a `DataFrameGroupBy object`. This object enables us to split our dataframe based on the gender of the participant. For example, imagine we only wanted a dataframe where the gender of the lead actor was male. We can use our gender_groups variable and then identify, using the `get_group` function, which of the groups we want to select. "
   ]
  },
  {
   "cell_type": "code",
   "execution_count": null,
   "metadata": {},
   "outputs": [],
   "source": [
    "#ii applying a function to create gender-based dataframes\n",
    "\n",
    "gender_groups.get_group(\"Male\") ##get_groups enables us to identify only those \n",
    "#responses where the value Male is in the column \"Gender of Lead\"\n",
    "\n"
   ]
  },
  {
   "cell_type": "code",
   "execution_count": null,
   "metadata": {},
   "outputs": [],
   "source": [
    "#Return the values where the Gender of Lead is Female\n",
    "\n"
   ]
  },
  {
   "cell_type": "code",
   "execution_count": null,
   "metadata": {},
   "outputs": [],
   "source": [
    "##iii combining the results to get frequencies per gender\n",
    "\n",
    "gender_groups[\"Genre\"].value_counts()"
   ]
  },
  {
   "cell_type": "code",
   "execution_count": null,
   "metadata": {},
   "outputs": [],
   "source": [
    "#let's clean up the results a little bit. \n",
    "\n",
    "gender_groups[\"Genre\"].value_counts(normalize=True).applymap(lambda x: f\"{x * 100:.02f}%\")\n"
   ]
  },
  {
   "cell_type": "code",
   "execution_count": null,
   "metadata": {},
   "outputs": [],
   "source": [
    "#we can get specific values, per gender, for specified columns\n",
    "\n",
    "gender_groups[\"ImdB Score\", \"Rotten Tomatoes' Critic Scores\", \"Rotten Tomatoes' Fan Scores\"].agg([\"mean\", \"std\"]).applymap(lambda x: f\"{x:.02f}\")\n"
   ]
  },
  {
   "cell_type": "code",
   "execution_count": null,
   "metadata": {},
   "outputs": [],
   "source": [
    "#Create a few code cells to run the following:\n",
    "\n",
    "# 1. Run the groupby function with the Genre column and assign it to the variable genre_groups.\n",
    "# 2. Return the value count of gender per genre (so the opposite of what we did earlier in the example)\n",
    "# 3. Run descriptive statistics (describe) on the genre_groups\n",
    "# 4. Pick one or more of the quantitative variables (i.e. columns) and return the mean and std for those columns, based on genre_groups\n"
   ]
  },
  {
   "cell_type": "markdown",
   "metadata": {},
   "source": [
    "# Challenge Time\n",
    "\n",
    "Use what you have learned from weeks 6-8 to create your own dataframe. This dataframe can be anything you want it to be. We recommend that you actually create the dataframe in Python rather than import one, because it will force you to walk through each step of creating and cleaning a dataframe. It does not need to be large - populate it with one or two categorical variables and then at least two quantitative variables. The number of observations (rows) in your dataframe is up to you. We recommend that you make it messy (with missing values, inconsistent values, NaN results), but you do not need to. Make sure you save this as well so that you can comeback to it if you like. \n",
    "\n",
    "Play around with cleaning, structuring, and then analysing your dataframe, and visualising the results.\n",
    "\n",
    "Take your time with this challenge. It is totally okay if you find it uncomfortable or have to re-read sections from previous weeks - that is a good thing; it well help you consolidate what you have learned. "
   ]
  }
 ],
 "metadata": {
  "interpreter": {
   "hash": "7a9ef9024c15ca6ed1326e758029b6af5e550e730c45bc8985a23f67327e6771"
  },
  "kernelspec": {
   "display_name": "Python 3.8.12 ('ourenv')",
   "language": "python",
   "name": "python3"
  },
  "language_info": {
   "codemirror_mode": {
    "name": "ipython",
    "version": 3
   },
   "file_extension": ".py",
   "mimetype": "text/x-python",
   "name": "python",
   "nbconvert_exporter": "python",
   "pygments_lexer": "ipython3",
   "version": "3.8.12"
  },
  "orig_nbformat": 4
 },
 "nbformat": 4,
 "nbformat_minor": 2
}
