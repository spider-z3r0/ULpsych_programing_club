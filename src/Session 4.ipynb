{
 "cells": [
  {
   "cell_type": "markdown",
   "metadata": {},
   "source": [
    "# Week 4: The recapening\n",
    "\n",
    "Hey'up! Welcome back to our series of sessions on python for SPSS users. \n",
    "\n",
    "In this session we're going to introduce you to the idea of a `virtual environment`, which sounds complex but really it's just a way of making sure you rprojects are safe from **the inevitable and crushing march of time**. It's the last thing to cover before we start working with data in `pandas`. Before we move onto that however, we want to take time to recap the more complex things that we've covered in the last few weeks, and to reinforce a couple of points that we've made in the last couple of weeks. \n",
    "\n",
    "## `Syntax` == lego\n",
    "\n",
    "Over the last few weeks you've been introduced to quite a lot of things, different `types` of `objects` (`ints`, `floats`, `strings`, `lists`, `dicts`), and you played around with a couple of different operations like `addition` and `concatenation`,  `multiplication` and `replication`, and you've learned how to pick `objects` appart using `indexing`. You've also learned how to give an object a short name that can be used to make it easier to work with, you've learned to `assign a variable`, and you've learned how to `call` a `function` to perform more complex operations on your objects. \n",
    "\n",
    "As a warm up, we have laid out some `code cells` below, please fill in required code to get the cells to work.  \n"
   ]
  },
  {
   "cell_type": "code",
   "execution_count": null,
   "metadata": {},
   "outputs": [],
   "source": [
    "# make a string object below\n",
    "\n",
    "# assign that string object to a variable\n",
    "\n",
    "# assign an int to a variable (varibale = object)\n",
    "\n",
    "# make a list of 4 objects (make at least 1 a string) and assign it to a variable in one line (variable = [object_1, object_2, object_3, object_4])\n"
   ]
  },
  {
   "cell_type": "code",
   "execution_count": null,
   "metadata": {},
   "outputs": [],
   "source": [
    "# assign the string in your list to a variable (variable = your_list[index])\n",
    "\n",
    "# print the last letter of the string variable (print(list_string_var[index]))"
   ]
  },
  {
   "cell_type": "code",
   "execution_count": null,
   "metadata": {},
   "outputs": [],
   "source": [
    "# assign one of the other objects in your list to a variable\n",
    "\n",
    "# check the 'type' of that object"
   ]
  },
  {
   "cell_type": "code",
   "execution_count": null,
   "metadata": {},
   "outputs": [],
   "source": [
    "#  make an 'f-string' that tells us what the last variable you made is and what 'type' of object it is, store that 'f-string' in a variable\n",
    "\n",
    "\n",
    "# print the 'f-string'"
   ]
  },
  {
   "cell_type": "markdown",
   "metadata": {},
   "source": [
    "Well done, before you move on check with one of us to make sure that your code is correct.\n",
    "\n",
    "Each of the things you've just done is an example of `syntax`, which is just the pattern of code that's used to do a particular thing. So the basic `syntax` for making a list is to \n",
    "\n",
    " 1. open square brackets '['\n",
    " 2. enter each of the items in your list, seperated by commas \n",
    " 3. close the square brackets ']'\n",
    "\n",
    "When we are learning to code, all we're really doing is learning those patterns of `syntax` and then learning how to combine those pieces of `syntax` in some way to get the computer to understand what we want it to do. In essence each piece of `syntax` is like a lego brick that can be combined with others to make something more complex. It's exactly like anyother language you've learned (and everyone in these sessions has learned at least one language).\n",
    "\n",
    "So when you see something new, or something  that looks more complex, take it line by line, try to identify the `syntax` components and see how they've been put together. We try to make sure there are always `# comments` to make it easier for you to identify what's going on. \n",
    "\n",
    "Something that might be useful for you to do is to make cells in your spare notebook (the one we made in week 1, it might be called `my first notebook.ipynb`) that act like a dictionary entry for each piece of `syntax` you come across. This will always be there for you to go back to and refresh yourself on a particular operation somethike the example below:\n",
    "\n"
   ]
  },
  {
   "cell_type": "code",
   "execution_count": null,
   "metadata": {},
   "outputs": [],
   "source": [
    "# how to make a dictionary\n",
    "# a dictionary is made up of `key:value pairs` enclosed in curly braces '{}'\n",
    "# so an example would be \n",
    "\n",
    "{'a':'first item', 'b':'second item'}\n",
    "\n",
    "# keys and values are joined together by colons ':' and each key:value pair is seperated by a comma (just like in a list)\n",
    "# we can assign a dict to a variable on the same line we create it\n",
    "# for example \n",
    "\n",
    "example_dict = {'c':6, 'd':10.2}\n",
    "\n",
    "# we can index a dict in a similar way to indexing other objects, but we use the key instead of an index number\n",
    "\n",
    "example_dict['c']"
   ]
  },
  {
   "cell_type": "markdown",
   "metadata": {},
   "source": [
    "If you take your time with these, and get us to check them/check them with eachother, you'll get a to grips with each piece of `syntax` more quickly and you'll start to see how they combine to add more power to your `code`. \n",
    "\n",
    "## A recap of functions\n",
    "\n",
    "You already know that a `function` is a means of 'compressing' complex `code` down into a simple and easy to type statment. This allows us to:\n",
    " 1. Type less code\n",
    "    1. Once you've wrapped all your code up in a function, you don't need to type it *all* out again, you just call the function\n",
    " 2. Avoid errors\n",
    "    1. The less code you have to write out in full repeatedly, the less risk of making mistakes (typos) that you then have to hundt dowm and fixt\n",
    " 3. Work more quickly\n",
    "    1. This one should be obvious, but calling a function can happen in a single line\n",
    " 4. Be flexible\n",
    "    1. Once we write a function that solves a problem, we can use it anytime we come up against that problem, and if we need to we can easily update the function to manage new cases\n",
    " 5. Share code\n",
    "    1. Functions allow us to give our code to others and to recieve code from them. This relates to `Modules` which we covered last week, and which we'll cover more later. \n",
    "\n",
    "*([see this really good tutorial for more info](https://www.freecodecamp.org/news/functions-in-python-a-beginners-guide/))*\n",
    "\n",
    "   \n",
    "   \n",
    "Over the last couple of weeks you have learned a couple of things about `functions`, how to `call` them and how to `define` them. In other words you've learned the `syntax` required to use one, and how to make new ones yourself. We won't recap `calling functions` here because you've already done it up above when you called the `print() function` but we want to take a minute to talk through making your own functions again. \n",
    "\n",
    "### Arguments\n",
    "\n",
    "You know that an `argument` is the bit that goes in between the brackets in a `function`, so in `print('Hello world')` the `argument` is 'hello world'. Just to be super obvious about it if we had `assigned` 'hello world to a `variable` first, like:\n",
    "\n",
    "```\n",
    "\n",
    "text = 'hello world'\n",
    "\n",
    "```\n",
    "\n",
    "then we would `pass` that `variable` as the `argument` to the `print function`, like so:\n",
    "\n",
    "```\n",
    "\n",
    "print(text)\n",
    "\n",
    "```\n",
    "\n",
    "Run the two cells below and see that the output for both cells is the same"
   ]
  },
  {
   "cell_type": "code",
   "execution_count": null,
   "metadata": {},
   "outputs": [],
   "source": [
    "print('Hello world')"
   ]
  },
  {
   "cell_type": "code",
   "execution_count": null,
   "metadata": {},
   "outputs": [],
   "source": [
    "text = 'hello world' #assigning our string to a variable\n",
    "\n",
    "print(text) #using the variable to call the function instead of just typing the string"
   ]
  },
  {
   "cell_type": "markdown",
   "metadata": {},
   "source": [
    "The thing to note here really is that `functions` can take any number of arguments, including 0, but each specific `function` will expect a certain number of arguments depending on what the `function` does (more on this in a few minutes). \n",
    "\n",
    "When `defining` your own `functions` it is really important to think about what you want it to do and about how many `arguments` are required to accomplish the goal of the function. We're going to show you a couple of simple examples and get you to try to replicate the functionality yourself, to expose you to the `syntax` again. \n",
    "\n",
    "### 0 argument functions\n",
    "\n",
    "Imagine that you want to have a `function` that does exactly the same thing everytime, like printing out a particular message, a message that doesn't change. Let's say that you want to use it to check and see that your jupyter notebook is working. One of the ways you might do this is to make a `function` that takes no `arguments`:\n",
    "\n",
    "```\n",
    "def ex_func_1(): # starts with 'def', this tells python your *defining* a function, ends with a colon ':', don't forget the :\n",
    "    ```this function take no arguments\n",
    "     and just prints out a message that never changes``` # these are called docstrings, check the week 3 notebook for more info on them\n",
    "    print('Hello user, it appears that your notebook is working') #again note the indentation\n",
    "\n",
    "```\n",
    "\n",
    "The function above will do one thing for you and thats all it can do. It's not flexible (and maybe you don't need it to be), but it is repeatable and much quicker to type than the full print statement (once you've defined it.)\n",
    "\n",
    "you would  `call` the `function` like this:\n",
    "\n",
    "```\n",
    "ex_func_1()\n",
    "```\n",
    "\n",
    "in the code cell below, *without copying and pasting*, `define` a `function` that does the same thing as the `function` above, give it a different name and `call` it after you've `defined` it."
   ]
  },
  {
   "cell_type": "code",
   "execution_count": null,
   "metadata": {},
   "outputs": [],
   "source": [
    "# Define the function below this comment, add docstrings to explain it\n",
    "\n",
    "\n",
    "# call the function below this comment. "
   ]
  },
  {
   "cell_type": "markdown",
   "metadata": {},
   "source": [
    "Alright, stop. \n",
    "\n",
    "Hammer time (sorry)\n",
    "\n",
    "Before you move on from here, take a little time and really try to identify the key components of this `syntax`. At the most basic level, learning to code is just taking simple `syntax` and adding to it or recongifuring it, so don't just rush through these note books, try to *see* what is happening in each `line` and how the `lines` relate to each other. \n",
    "\n",
    "\n",
    "### Single-argument functions\n",
    "\n",
    "So you've just `defined a function` that takes no arguments, which means it always does exactly the same thing, which, honestly is quite rare, generally we want functions to be flexible, so that when we solve a problem, we *also solve a lot of similar problems*. This is the where the power of `arguments` comes in. \n",
    "\n",
    "If you look at the example of `ex_func_1()` up above you can see that it prints the text:\n",
    "\n",
    "`Hello user, it appears that your notebook is working`\n",
    "\n",
    "But what if we want it to be able to greet the user by name instead? In otherwords, what if we want it to be more *flexible*? Now, if you're the only person who's ever using the function you could just replace `'user`' with your name when `defining` the `function` but that doesn't solve the problem in the long term. Instead we would define the function so that it expects 1 `argument` like so:\n",
    "\n",
    "```\n",
    "def ex_func_2(x):\n",
    "    '''This function takes a string and then prints out a message that\n",
    "    includes that string in it'''\n",
    "    print(f'Hello {x}, it appears that your notebook is working')# note that we're using an 'f-string' here\n",
    "\n",
    "```\n",
    "\n",
    "What has really changed here? \n",
    "\n",
    "Well we can see that instead of leaving the space between the brackets empty, we have put 'x' in between the brackets, and instead of the 'normal' `string`, we're using the more flexible `f-string`. That's it, 2 small changes and we have something that is much more powerful. \n",
    "\n",
    "This time, when you call the function it is *expecting* to have some object in between the brackets, it's expecting an `argument`.\n",
    "\n",
    "In the cell below, again, without copying and pasting, `define` a `function` that replicates `ex_func_2()`. Again, give it a different name, and if you like you can change the `f-string` to print out a different message."
   ]
  },
  {
   "cell_type": "code",
   "execution_count": null,
   "metadata": {},
   "outputs": [],
   "source": [
    "# define your single-argument function below\n",
    "# don't forget docstrings and comments\n",
    "\n",
    "\n",
    "\n",
    "\n",
    "# DON'T call your new function yet"
   ]
  },
  {
   "cell_type": "markdown",
   "metadata": {},
   "source": [
    "Make sure you run the cell above so that your function is actually defined. \n",
    "\n",
    "Work through the 2 `code cells` below to play around with calling your new function, don't forget to run each cell. "
   ]
  },
  {
   "cell_type": "code",
   "execution_count": null,
   "metadata": {},
   "outputs": [],
   "source": [
    "# call your function on the next line and put your name in between the brackets (remember that it has to be a string)"
   ]
  },
  {
   "cell_type": "code",
   "execution_count": null,
   "metadata": {},
   "outputs": [],
   "source": [
    "# assign your name (as a string) to the variable n on the next line\n",
    "\n",
    "\n",
    "# now call your function, but instead of typing your name as a string between the brackets, just use n"
   ]
  },
  {
   "cell_type": "markdown",
   "metadata": {},
   "source": [
    "If you've done it right, both of the above cells will poduce the same output, this should indicate what the `x` is doing in `ex_func_2()`; its just a place holder, or you could also think of it as a `variable` that isn't `assigned` until you `call` the `function`.\n",
    "\n",
    "So in essesnce when you `call` `ex_func_2('John')` what happens behind the scene is\n",
    "\n",
    "```\n",
    "x = 'John'\n",
    "message = 'Hello {x}, it appears that your notebook is working'\n",
    "print(message)\n",
    "```\n",
    "\n",
    "But because of how python is written, when you define a `function` to accept `arguments` it temporarily assigns your object to a variable, does what ever it needs to do, and then the function ends. This is also tru if' you've already assigned your object to a variable:\n",
    "\n",
    "```\n",
    "name = 'John'\n",
    "\n",
    "ex_func_2(name)\n",
    "\n",
    "```\n",
    "\n",
    "In the background this looks like\n",
    "\n",
    "```\n",
    "x = name\n",
    "message = 'Hello {x}, it appears that your notebook is working'\n",
    "print(message)\n",
    "```\n",
    "\n",
    "### two-argument `functions`\n",
    "\n",
    "OK so, rather than flogging this dead horse again, we want you to try `defining` a `function` that takes two arguments. It's just an extension of what you've done so far but practice makes perfect. Remember that you can always ask us a question, or you can (and everyone does) use google liberaly. \n",
    "\n",
    "To keep it simple just make your function print out a message that contains your two `arguments`. This is good also good practice for using `f-strings`"
   ]
  },
  {
   "cell_type": "code",
   "execution_count": null,
   "metadata": {},
   "outputs": [],
   "source": [
    "# define your function in this cell\n",
    "#don't forget commments and docstrings"
   ]
  },
  {
   "cell_type": "code",
   "execution_count": null,
   "metadata": {},
   "outputs": [],
   "source": [
    "# call your function in this cell\n",
    "# do it a couple of times with different arguments\n",
    "# try it once without any arguments in it and read the error (also called a traceback) that gets produced. "
   ]
  },
  {
   "cell_type": "markdown",
   "metadata": {},
   "source": [
    "Excellent, remember you can always come back to these notebooks if you need to go over something or you can always find resources ([like this great page](https://www.freecodecamp.org/news/functions-in-python-a-beginners-guide/)) online. Coding is like anyother practical skill, it's *embodied* knowledge, so you have to *do* it to *know* it. The more you practice a thing the less you have to look it up, but you always can look it up if you need to. \n",
    "\n",
    "OK so, you know the basics of how to `define` a `function`, there's lots more that you *can* do with different [types of arguments](https://www.codingem.com/what-is-a-positional-argument-in-python/) but there's one more basic thing that we need to cover before we move on. \n",
    "\n",
    "### `return` statements\n",
    "\n",
    "So far we've looked at functions that just `print` out a message as an example of a function that just runs some process and then exits. However, more often than just *doing a thing* we want our `functions` to *give us a thing* that we can work with. In python speak we want the function to `return` something to us, and to do this we add a piece of `syntax` called the `return()` statement to the end of our function. This is another one of those things that easier to show than to tell. \n",
    "\n",
    "In the example we used last week we built a function that used a `for-loop` to make a list of SPSS_like column names that we could then work with later, say for when we're cleaning data. We're going to cover loops in a little more detail again later (and you'll practice them when you're actually cleaning data next week) but for now lets just imagine that we want to change `ex_func_2()` to give give us the message instead of ust printing it out. In the simplest case we would just swap the `print()` statement with a `return()` statement at the end of the function:\n",
    "\n",
    "```\n",
    "def ex_func_2(x):\n",
    "    '''This function takes a string and then prints out a message that\n",
    "    includes that string in it'''\n",
    "    return(f'Hello {x}, it appears that your notebook is working')# note that we're returning an 'f-string' rather than just printing it\n",
    "    \n",
    "```\n",
    "\n",
    "and in this case we would have to change how we call the function because \n",
    "\n",
    "```\n",
    "ex_func_2('John')\n",
    "\n",
    "```\n",
    "\n",
    "won't actually print anything out, instead we would use this function to create a new `variable` and then we would `print()` that `variable` seperately. \n",
    "\n",
    "```\n",
    "\n",
    "message = ex_func_2('John') #using the function make a message that we can work with later (assigning it to a variable)\n",
    "print(message) #printing the message\n",
    "\n",
    "```\n",
    "\n",
    "This means that we can then work with the message in the same way we would work with any other `string variable` (just because we are making a `string` with our function, it could be any other `datatype`). \n",
    "\n",
    "```\n",
    "\n",
    "print(message + 'BOOM!')\n",
    "\n",
    "```\n",
    "\n",
    "This is a fairly limited example, but it's an acurate one and it's actually a really simple version of the same process that is used to import a full data set into python, we use some syntax to `return` a dataset to us as a `DataFrame` object, that we can then clean, or combine with other `DataFrames`, or run analysis on. The thing to keep in mind here is that the return statment comes **as the last line in the `function`** and anything after that won't run.\n",
    "\n",
    "To play with this idea we want you to update your 2 argument function to return the message to you *and* print out the message, there's more than one way to get this to work but take your time and think about it. Please ask us for help if you need it, but try to play around a bit and see what happens, remember that you can't break anything and the worst you'll get is an error that might help you write a better `function`. "
   ]
  },
  {
   "cell_type": "code",
   "execution_count": null,
   "metadata": {},
   "outputs": [],
   "source": [
    "# update your second function here so that it returns your message as a variable but also prints something out, it can be the same message or something else. \n",
    "# take your time, comment your work"
   ]
  },
  {
   "cell_type": "markdown",
   "metadata": {},
   "source": [
    "So as we've said you'll learn lots of functions as you go, or at least you'll learn where the `documentation` that explains these functions is so that you can use them when you need them, as you go. We're teaching about functions because:\n",
    " 1. They're great\n",
    " 2. They demonstrate things like indentation\n",
    " 3. They're tidy\n",
    " 4. They give you a sense of the power you have to solve problems in a flexible way.\n",
    "\n",
    "\n",
    "What we want to do next is spend a little more time on `loops` because these are also really powerful and if you can combine `loops` and `functions` you can do some really cool stuff. \n",
    "\n",
    "## more on loops. \n",
    "\n",
    "Last week, we introduced you to the idea of a `loop` and specifically `for-loops`. Fundamentally a `loop` is a very simple concept, it just means to cycle through some `lines` of `code` until something happens. A `for loop` just does this *for* a certain a mount of times (generally for a certain amount of objects). So the code\n",
    "\n",
    "```\n",
    "\n",
    "my_list = ['John', 'Mary', 'Joan', 'Mike'] # just making a list\n",
    "\n",
    "for i in my_list: #starting the for loop, don't forget the colon\n",
    "    print(i) # here's our friend indentation again\n",
    "\n",
    "```\n",
    "\n",
    "just means\n",
    "\n",
    "**for every name in my_list, run the print function on that list**\n",
    "\n",
    "Thats a simple `for-loop`, you can add as many lines as you like, and like we showed last week you can nest `for-loops` inside other `for-loops` like :\n",
    "\n",
    "```\n",
    "ns = [6,5,4,3]# making a list of numbers\n",
    "np = [4,3,2,1]# making another list of numbers\n",
    "\n",
    "for i, n in enumerate(ns):# enumerate() is a new function that allows us to access the index and the item in one call\n",
    "    #note the first indentation\n",
    "    for j in np:\n",
    "        # note the second indentation\n",
    "        k = n*j\n",
    "        print(f'The number at position {i}(which is {n}) has been multiplied by {j}. The result is {k}')\n",
    "\n",
    "```\n",
    "\n",
    "And we showed you how you can embed a loop in a function\n",
    "\n",
    "```\n",
    "def speller(x):\n",
    "    '''this takes a string or list a writes out each item capitalised'''\n",
    "    for i in range(len(x)): # using some handy functions to get at the index and set the duration of the loop\n",
    "        print(x[i].upper())\n",
    "\n",
    "```\n",
    "\n",
    "\n",
    "so in the cell below, write a simple `for loop`, you don't need to embed it in a function for now, but it'd be good practice if you did. "
   ]
  },
  {
   "cell_type": "code",
   "execution_count": null,
   "metadata": {},
   "outputs": [],
   "source": [
    "# write a simple for loop here. "
   ]
  },
  {
   "cell_type": "markdown",
   "metadata": {},
   "source": [
    "It might be clear to you that in the first line of a `for-loop` like:\n",
    "\n",
    "``` for i in my_list:```\n",
    "\n",
    "the `i` is a placeholder variable, just like we see in `functions`. Every time the `for-loop` runs it's code the particular piece of data is `assigned to i`, then the code runs, then `i` gets changed to the next object that the loop is running for. \n",
    "\n",
    "`for-loops` are one way to get python to repeat code. Another way is called a `while loop`. \n",
    "\n",
    "### While loops\n",
    "\n",
    "A `while loop` is very simlar to a `for loop` except it loops the code as long as a certain condition is in place. For for example, what if we want to print out all the numbers less than 10? I don't know why we'd want to, but lets say we do. We *could* use a `for-loop`, but in some cases a `while loop` might be better. Run the cell below for an example."
   ]
  },
  {
   "cell_type": "code",
   "execution_count": null,
   "metadata": {},
   "outputs": [],
   "source": [
    "number = 0\n",
    "\n",
    "while number < 10: #note the mathematical 'less than' symbol\n",
    "    print(number) # printing n (more indentation)\n",
    "    number +=1 # updating n so that it counts up by 1. this line is important"
   ]
  },
  {
   "cell_type": "markdown",
   "metadata": {},
   "source": [
    "The example `while loop` above takes a number, prints it out, and then adds 1 to the number until the number is equal to 9 (which is the last `int` before 10). It's pretty simple but it's a good way to introduce you to a new `datatype`, the `boolean`, also called a `bool`. \n",
    "\n",
    "### `Booleans`\n",
    "\n",
    "A `bool` is basically a True-or-False statment in python, and they're really handy. Basically they are a way to check if something is True or Not. `Bools` use something called `boolean operators` ([see here for a fuller discussion of them](https://www.w3schools.com/python/python_booleans.asp)) to find out if something is True or False and `return()` which ever is the case. "
   ]
  },
  {
   "cell_type": "code",
   "execution_count": null,
   "metadata": {},
   "outputs": [],
   "source": [
    "2 == 1 #note the double equals sign"
   ]
  },
  {
   "cell_type": "code",
   "execution_count": null,
   "metadata": {},
   "outputs": [],
   "source": [
    "2 > 1 # note the 'greater than' symbol"
   ]
  },
  {
   "cell_type": "code",
   "execution_count": null,
   "metadata": {},
   "outputs": [],
   "source": [
    "2 != 2 # exclamation mark is code for 'not' so this says '2 is not equal to 2' which is false"
   ]
  },
  {
   "cell_type": "markdown",
   "metadata": {},
   "source": [
    "While these are all simple examples, demonstrating them in `while loops` is one way to see where they can be powerful, they allow us to set a condition on a `loop` when we don't have something like a `list` or `string` to iterate over, as you can see in the simple example we showed up above. \n",
    "\n",
    "We'll practice with these a lot more, and honestly, often the choice beween a `while loop` and a `for loop` is down to preference, but there are times when 1 is 'better' than the other.\n",
    "\n",
    "\n",
    "Thats enough recapping, and enough of working in this notebook for today. We really wanted to make sure that functions and loops were clear to you before we start actually working on data next week. \n",
    "\n",
    "The last thing we're going to do today is get you to work through the word document on `setting up a virtual environment` and once that's done you'll be ready, young padawan, to break free of SPSS and start munging data like a pythonista!!. \n",
    "\n",
    "\n",
    "Ryan and Kev"
   ]
  }
 ],
 "metadata": {
  "interpreter": {
   "hash": "da3e0b0f4dc5d44db4d7e0a7396f401911ef6d0325c18f6517bd5ad3af6d2cfb"
  },
  "kernelspec": {
   "display_name": "Python 3.9.6 64-bit ('research': venv)",
   "language": "python",
   "name": "python3"
  },
  "language_info": {
   "codemirror_mode": {
    "name": "ipython",
    "version": 3
   },
   "file_extension": ".py",
   "mimetype": "text/x-python",
   "name": "python",
   "nbconvert_exporter": "python",
   "pygments_lexer": "ipython3",
   "version": "3.9.6"
  },
  "orig_nbformat": 4
 },
 "nbformat": 4,
 "nbformat_minor": 2
}
