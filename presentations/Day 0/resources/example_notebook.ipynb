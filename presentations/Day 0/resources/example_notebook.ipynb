{
 "cells": [
  {
   "cell_type": "raw",
   "metadata": {
    "vscode": {
     "languageId": "raw"
    }
   },
   "source": [
    "---\n",
    "title: 'Example of a Jupyter Notebook'\n",
    "author: 'Pfft Some other nerd'\n",
    "abstract: 'This is an example of a Jupyter Notebook. It is a simple example that shows how to use markdown and code cells, with the first cell being a Raw cell that contains the quarto yaml\n",
    "metadata. The second cell is a markdown cell that contains a level one heading and a link to the Jupyter Notebook documentation. The third cell is a code cell that contains a simple Python script that prints \"Hello, World!\"\n",
    "to the console.'\n",
    "---"
   ]
  },
  {
   "cell_type": "markdown",
   "metadata": {},
   "source": [
    "# Using Jupyter Notebooks with Quarto and python\n",
    "\n",
    "Jupyter Notebooks are a great way to create and share documents that contain live code, equations, visualizations, and narrative text. Quarto is a new document formatting engine that extends the capabilities of Jupyter Notebooks by adding support for documen rendering into multiple formats (such as APA style). This document is a simple example of a Jupyter Notebook that is written with quarto in mind.\n",
    "\n",
    "## Layout of a Jupyter Notebook\n",
    "\n",
    "A Jupyter Notebook is a document that is composed of cells (which are like quarto blocks). Each cell can contain code, markdown, or raw text. The cells can be executed in any order, and the output of the code cells is displayed below the cell. The markdown cells are rendered as formatted text, and the raw text cells are displayed as is (or in the case of a raw cell that contains quarto yaml, it is used to control the rendering of the document).\n",
    "\n",
    "You create a new cell by clicking on the '+ Code' or '+ Markdown' box at the bottom of an existing cell. You can specify what you kind of cell you want by clicking in the bottom right corner of the cell and selecting the language that you want from the dropdown menu, so if you accidentally make a markdown cell when you wanted a code cell, you can easily change it. \n",
    "\n",
    "\n",
    "## Code cells\n",
    "You can execute a code cell by clicking on the 'Play' button in thetop left of the cell, or by pressing 'Ctrl+Enter' on your keyboard. You can also execute a cell and create a new cell below it by pressing 'Shift+Enter'.\n",
    "\n",
    "## Markdown cells\n",
    "You can edit a markdown cell by double clicking on it. You can render the markdown by clicking on the Little tick button on the top right of the Markdown cell, or by pressing 'Ctrl+Enter' on your keyboard. You can also render the markdown and create a new cell below it by pressing 'Shift+Enter'. You can use exactly the same markdown syntax that you would use in a [quarto document](https://quarto.org/docs/computations/python.html#jupyter-lab).\n",
    "\n",
    "\n",
    "The next cell is a python cell that contains a simple script that prints the numbers from 1 to 10, notice that the output of the code cell is displayed below the cell. We'll talk more about this when we start working with code on Day 1\n",
    "\n"
   ]
  },
  {
   "cell_type": "code",
   "execution_count": 3,
   "metadata": {},
   "outputs": [
    {
     "name": "stdout",
     "output_type": "stream",
     "text": [
      "1\n",
      "2\n",
      "3\n",
      "4\n",
      "5\n",
      "6\n",
      "7\n",
      "8\n",
      "9\n",
      "10\n"
     ]
    }
   ],
   "source": [
    "# This is a python comment, it starts with a hash and you won't see it in the output \n",
    "\n",
    "for i in range(1,11): # This is a for loop, it will run 10 times\n",
    "    print(i) # This is a print statement, it will print the value of i\n"
   ]
  }
 ],
 "metadata": {
  "kernelspec": {
   "display_name": "pss",
   "language": "python",
   "name": "python3"
  },
  "language_info": {
   "codemirror_mode": {
    "name": "ipython",
    "version": 3
   },
   "file_extension": ".py",
   "mimetype": "text/x-python",
   "name": "python",
   "nbconvert_exporter": "python",
   "pygments_lexer": "ipython3",
   "version": "3.12.2"
  }
 },
 "nbformat": 4,
 "nbformat_minor": 2
}
